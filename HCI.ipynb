{
 "cells": [
  {
   "cell_type": "code",
   "execution_count": null,
   "metadata": {},
   "outputs": [
    {
     "name": "stderr",
     "output_type": "stream",
     "text": [
      "[nltk_data] Downloading package punkt to\n",
      "[nltk_data]     /Users/soundaryatekkalakota/nltk_data...\n"
     ]
    },
    {
     "name": "stdout",
     "output_type": "stream",
     "text": [
      " * Serving Flask app \"__main__\" (lazy loading)\n",
      " * Environment: production\n",
      "   WARNING: This is a development server. Do not use it in a production deployment.\n",
      "   Use a production WSGI server instead.\n",
      " * Debug mode: off\n"
     ]
    },
    {
     "name": "stderr",
     "output_type": "stream",
     "text": [
      "[nltk_data]   Package punkt is already up-to-date!\n",
      " * Running on http://127.0.0.1:5000/ (Press CTRL+C to quit)\n",
      "127.0.0.1 - - [02/Dec/2019 17:26:36] \"GET /article-summary?url=https://www.nbcnews.com/politics/trump-impeachment-inquiry/newly-released-documents-shed-light-mueller-trump-meeting-n1094586&list_url=https://www.cnet.com/roadshow/news/uber-self-driving-car-crash-arizona/&list_url=https://www.theverge.com/2019/11/6/20951385/uber-self-driving-crash-death-reason-ntsb-dcouments&list_url=https://gizmodo.com/voyager-2-team-releases-first-scientific-data-on-inters-1839612752&list_url=https://www.engadget.com/2019/11/27/steven-universe-unleash-the-light-apple-arcade/&list_url=https://www.wired.com/story/ubers-self-driving-car-didnt-know-pedestrians-could-jaywalk/&list_url=https://gizmodo.com/u-s-police-already-using-spot-robot-from-boston-dynami-1840029868&list_url=https://www.cnn.com/2019/11/18/politics/trump-tax-documents-supreme-court/index.html&list_url=https://www.washingtonexaminer.com/news/get-the-emails-mueller-interview-notes-reveal-trump-campaign-hunt-to-damage-clinton&list_url=https://lifehacker.com/how-to-take-light-trail-photos-on-your-pixel-phone-1839696835&list_url=https://www.nytimes.com/2019/11/23/us/politics/pompeo-trump-ukraine-impeachment.html HTTP/1.1\" 200 -\n",
      "127.0.0.1 - - [02/Dec/2019 17:35:25] \"GET /article-summary?url=https://www.cnn.com/2019/12/02/politics/house-republican-response-impeachment-inquiry/index.html&list_url=https://www.nytimes.com/2019/11/18/us/politics/trump-impeachment.html&list_url=https://www.nytimes.com/2019/11/06/us/politics/trump-impeachment-hearings.html&list_url=https://www.nytimes.com/2019/11/29/us/politics/house-judiciary-panel-asks-trump-if-he-will-present-impeachment-defense.html&list_url=https://www.cnn.com/2019/11/12/politics/house-republicans-trump-memo-impeachment-defense/index.html&list_url=https://www.nytimes.com/2019/12/02/us/politics/republican-impeachment-defense.html&list_url=https://www.nytimes.com/2019/11/14/podcasts/the-latest-impeachment-bribery.html&list_url=https://www.nytimes.com/2019/11/06/us/politics/william-taylor-ukraine-impeachment-testimony.html&list_url=https://www.nytimes.com/2019/11/26/us/politics/impeachment-trump-hearing.html&list_url=https://www.nytimes.com/2019/11/03/us/politics/whistleblower-impeachment-trump.html&list_url=https://www.nytimes.com/2019/11/29/us/politics/impeachment-trump-polls.html HTTP/1.1\" 200 -\n",
      "127.0.0.1 - - [02/Dec/2019 17:55:55] \"GET /article-summary?url=https://www.cnn.com/2019/12/02/politics/house-republican-response-impeachment-inquiry/index.html&list_url=https://www.nytimes.com/2019/11/18/us/politics/trump-impeachment.html&list_url=https://www.nytimes.com/2019/11/06/us/politics/trump-impeachment-hearings.html&list_url=https://www.nytimes.com/2019/11/29/us/politics/house-judiciary-panel-asks-trump-if-he-will-present-impeachment-defense.html&list_url=https://www.cnn.com/2019/11/12/politics/house-republicans-trump-memo-impeachment-defense/index.html&list_url=https://www.nytimes.com/2019/12/02/us/politics/republican-impeachment-defense.html&list_url=https://www.nytimes.com/2019/11/14/podcasts/the-latest-impeachment-bribery.html&list_url=https://www.nytimes.com/2019/11/06/us/politics/william-taylor-ukraine-impeachment-testimony.html&list_url=https://www.nytimes.com/2019/11/26/us/politics/impeachment-trump-hearing.html&list_url=https://www.nytimes.com/2019/11/03/us/politics/whistleblower-impeachment-trump.html&list_url=https://www.nytimes.com/2019/11/29/us/politics/impeachment-trump-polls.html HTTP/1.1\" 200 -\n",
      "127.0.0.1 - - [02/Dec/2019 17:57:25] \"GET /article-summary?url=https://www.cnn.com/2019/12/02/politics/house-republican-response-impeachment-inquiry/index.html&list_url=https://www.nytimes.com/2019/11/18/us/politics/trump-impeachment.html&list_url=https://www.nytimes.com/2019/11/06/us/politics/trump-impeachment-hearings.html&list_url=https://www.nytimes.com/2019/11/29/us/politics/house-judiciary-panel-asks-trump-if-he-will-present-impeachment-defense.html&list_url=https://www.cnn.com/2019/11/12/politics/house-republicans-trump-memo-impeachment-defense/index.html&list_url=https://www.nytimes.com/2019/12/02/us/politics/republican-impeachment-defense.html&list_url=https://www.nytimes.com/2019/11/14/podcasts/the-latest-impeachment-bribery.html&list_url=https://www.nytimes.com/2019/11/06/us/politics/william-taylor-ukraine-impeachment-testimony.html&list_url=https://www.nytimes.com/2019/11/26/us/politics/impeachment-trump-hearing.html&list_url=https://www.nytimes.com/2019/11/03/us/politics/whistleblower-impeachment-trump.html&list_url=https://www.nytimes.com/2019/11/29/us/politics/impeachment-trump-polls.html HTTP/1.1\" 200 -\n",
      "127.0.0.1 - - [02/Dec/2019 18:00:48] \"GET /article-summary?url=https://www.cnn.com/2019/12/02/politics/house-republican-response-impeachment-inquiry/index.html&list_url=https://www.nytimes.com/2019/11/18/us/politics/trump-impeachment.html&list_url=https://www.nytimes.com/2019/11/06/us/politics/trump-impeachment-hearings.html&list_url=https://www.nytimes.com/2019/11/29/us/politics/house-judiciary-panel-asks-trump-if-he-will-present-impeachment-defense.html&list_url=https://www.cnn.com/2019/11/12/politics/house-republicans-trump-memo-impeachment-defense/index.html&list_url=https://www.nytimes.com/2019/12/02/us/politics/republican-impeachment-defense.html&list_url=https://www.nytimes.com/2019/11/14/podcasts/the-latest-impeachment-bribery.html&list_url=https://www.nytimes.com/2019/11/06/us/politics/william-taylor-ukraine-impeachment-testimony.html&list_url=https://www.nytimes.com/2019/11/26/us/politics/impeachment-trump-hearing.html&list_url=https://www.nytimes.com/2019/11/03/us/politics/whistleblower-impeachment-trump.html&list_url=https://www.nytimes.com/2019/11/29/us/politics/impeachment-trump-polls.html HTTP/1.1\" 200 -\n",
      "127.0.0.1 - - [02/Dec/2019 18:01:04] \"GET /article-summary?url=https://www.cnn.com/2019/12/02/politics/house-republican-response-impeachment-inquiry/index.html&list_url=https://www.nytimes.com/2019/11/18/us/politics/trump-impeachment.html&list_url=https://www.nytimes.com/2019/11/06/us/politics/trump-impeachment-hearings.html&list_url=https://www.nytimes.com/2019/11/29/us/politics/house-judiciary-panel-asks-trump-if-he-will-present-impeachment-defense.html&list_url=https://www.cnn.com/2019/11/12/politics/house-republicans-trump-memo-impeachment-defense/index.html&list_url=https://www.nytimes.com/2019/12/02/us/politics/republican-impeachment-defense.html&list_url=https://www.nytimes.com/2019/11/14/podcasts/the-latest-impeachment-bribery.html&list_url=https://www.nytimes.com/2019/11/06/us/politics/william-taylor-ukraine-impeachment-testimony.html&list_url=https://www.nytimes.com/2019/11/26/us/politics/impeachment-trump-hearing.html&list_url=https://www.nytimes.com/2019/11/03/us/politics/whistleblower-impeachment-trump.html&list_url=https://www.nytimes.com/2019/11/29/us/politics/impeachment-trump-polls.html HTTP/1.1\" 200 -\n",
      "127.0.0.1 - - [02/Dec/2019 18:01:26] \"GET /article-summary?url=https://www.cnn.com/2019/12/02/politics/house-republican-response-impeachment-inquiry/index.html&list_url=https://www.nytimes.com/2019/11/18/us/politics/trump-impeachment.html&list_url=https://www.nytimes.com/2019/11/06/us/politics/trump-impeachment-hearings.html&list_url=https://www.nytimes.com/2019/11/29/us/politics/house-judiciary-panel-asks-trump-if-he-will-present-impeachment-defense.html&list_url=https://www.cnn.com/2019/11/12/politics/house-republicans-trump-memo-impeachment-defense/index.html&list_url=https://www.nytimes.com/2019/12/02/us/politics/republican-impeachment-defense.html&list_url=https://www.nytimes.com/2019/11/14/podcasts/the-latest-impeachment-bribery.html&list_url=https://www.nytimes.com/2019/11/06/us/politics/william-taylor-ukraine-impeachment-testimony.html&list_url=https://www.nytimes.com/2019/11/26/us/politics/impeachment-trump-hearing.html&list_url=https://www.nytimes.com/2019/11/03/us/politics/whistleblower-impeachment-trump.html&list_url=https://www.nytimes.com/2019/11/29/us/politics/impeachment-trump-polls.html HTTP/1.1\" 200 -\n",
      "127.0.0.1 - - [02/Dec/2019 18:01:43] \"GET /article-summary?url=https://www.cnn.com/2019/12/02/politics/house-republican-response-impeachment-inquiry/index.html&list_url=https://www.nytimes.com/2019/11/18/us/politics/trump-impeachment.html&list_url=https://www.nytimes.com/2019/11/06/us/politics/trump-impeachment-hearings.html&list_url=https://www.nytimes.com/2019/11/29/us/politics/house-judiciary-panel-asks-trump-if-he-will-present-impeachment-defense.html&list_url=https://www.cnn.com/2019/11/12/politics/house-republicans-trump-memo-impeachment-defense/index.html&list_url=https://www.nytimes.com/2019/12/02/us/politics/republican-impeachment-defense.html&list_url=https://www.nytimes.com/2019/11/14/podcasts/the-latest-impeachment-bribery.html&list_url=https://www.nytimes.com/2019/11/06/us/politics/william-taylor-ukraine-impeachment-testimony.html&list_url=https://www.nytimes.com/2019/11/26/us/politics/impeachment-trump-hearing.html&list_url=https://www.nytimes.com/2019/11/03/us/politics/whistleblower-impeachment-trump.html&list_url=https://www.nytimes.com/2019/11/29/us/politics/impeachment-trump-polls.html HTTP/1.1\" 200 -\n"
     ]
    },
    {
     "name": "stderr",
     "output_type": "stream",
     "text": [
      "127.0.0.1 - - [02/Dec/2019 18:01:57] \"GET /article-summary?url=https://www.cnn.com/2019/12/02/politics/house-republican-response-impeachment-inquiry/index.html&list_url=https://www.nytimes.com/2019/11/18/us/politics/trump-impeachment.html&list_url=https://www.nytimes.com/2019/11/06/us/politics/trump-impeachment-hearings.html&list_url=https://www.nytimes.com/2019/11/29/us/politics/house-judiciary-panel-asks-trump-if-he-will-present-impeachment-defense.html&list_url=https://www.cnn.com/2019/11/12/politics/house-republicans-trump-memo-impeachment-defense/index.html&list_url=https://www.nytimes.com/2019/12/02/us/politics/republican-impeachment-defense.html&list_url=https://www.nytimes.com/2019/11/14/podcasts/the-latest-impeachment-bribery.html&list_url=https://www.nytimes.com/2019/11/06/us/politics/william-taylor-ukraine-impeachment-testimony.html&list_url=https://www.nytimes.com/2019/11/26/us/politics/impeachment-trump-hearing.html&list_url=https://www.nytimes.com/2019/11/03/us/politics/whistleblower-impeachment-trump.html&list_url=https://www.nytimes.com/2019/11/29/us/politics/impeachment-trump-polls.html HTTP/1.1\" 200 -\n",
      "127.0.0.1 - - [02/Dec/2019 18:02:23] \"GET /article-summary?url=https://www.cnn.com/2019/12/02/politics/house-republican-response-impeachment-inquiry/index.html&list_url=https://www.nytimes.com/2019/11/18/us/politics/trump-impeachment.html&list_url=https://www.nytimes.com/2019/11/06/us/politics/trump-impeachment-hearings.html&list_url=https://www.nytimes.com/2019/11/29/us/politics/house-judiciary-panel-asks-trump-if-he-will-present-impeachment-defense.html&list_url=https://www.cnn.com/2019/11/12/politics/house-republicans-trump-memo-impeachment-defense/index.html&list_url=https://www.nytimes.com/2019/12/02/us/politics/republican-impeachment-defense.html&list_url=https://www.nytimes.com/2019/11/14/podcasts/the-latest-impeachment-bribery.html&list_url=https://www.nytimes.com/2019/11/06/us/politics/william-taylor-ukraine-impeachment-testimony.html&list_url=https://www.nytimes.com/2019/11/26/us/politics/impeachment-trump-hearing.html&list_url=https://www.nytimes.com/2019/11/03/us/politics/whistleblower-impeachment-trump.html&list_url=https://www.nytimes.com/2019/11/29/us/politics/impeachment-trump-polls.html HTTP/1.1\" 200 -\n",
      "127.0.0.1 - - [02/Dec/2019 18:02:38] \"GET /article-summary?url=https://www.cnn.com/2019/12/02/politics/house-republican-response-impeachment-inquiry/index.html&list_url=https://www.nytimes.com/2019/11/18/us/politics/trump-impeachment.html&list_url=https://www.nytimes.com/2019/11/06/us/politics/trump-impeachment-hearings.html&list_url=https://www.nytimes.com/2019/11/29/us/politics/house-judiciary-panel-asks-trump-if-he-will-present-impeachment-defense.html&list_url=https://www.cnn.com/2019/11/12/politics/house-republicans-trump-memo-impeachment-defense/index.html&list_url=https://www.nytimes.com/2019/12/02/us/politics/republican-impeachment-defense.html&list_url=https://www.nytimes.com/2019/11/14/podcasts/the-latest-impeachment-bribery.html&list_url=https://www.nytimes.com/2019/11/06/us/politics/william-taylor-ukraine-impeachment-testimony.html&list_url=https://www.nytimes.com/2019/11/26/us/politics/impeachment-trump-hearing.html&list_url=https://www.nytimes.com/2019/11/03/us/politics/whistleblower-impeachment-trump.html&list_url=https://www.nytimes.com/2019/11/29/us/politics/impeachment-trump-polls.html HTTP/1.1\" 200 -\n",
      "127.0.0.1 - - [02/Dec/2019 18:03:02] \"GET /article-summary?url=https://www.cnn.com/2019/12/02/politics/house-republican-response-impeachment-inquiry/index.html&list_url=https://www.nytimes.com/2019/11/18/us/politics/trump-impeachment.html&list_url=https://www.nytimes.com/2019/11/06/us/politics/trump-impeachment-hearings.html&list_url=https://www.nytimes.com/2019/11/29/us/politics/house-judiciary-panel-asks-trump-if-he-will-present-impeachment-defense.html&list_url=https://www.cnn.com/2019/11/12/politics/house-republicans-trump-memo-impeachment-defense/index.html&list_url=https://www.nytimes.com/2019/12/02/us/politics/republican-impeachment-defense.html&list_url=https://www.nytimes.com/2019/11/14/podcasts/the-latest-impeachment-bribery.html&list_url=https://www.nytimes.com/2019/11/06/us/politics/william-taylor-ukraine-impeachment-testimony.html&list_url=https://www.nytimes.com/2019/11/26/us/politics/impeachment-trump-hearing.html&list_url=https://www.nytimes.com/2019/11/03/us/politics/whistleblower-impeachment-trump.html&list_url=https://www.nytimes.com/2019/11/29/us/politics/impeachment-trump-polls.html HTTP/1.1\" 200 -\n",
      "127.0.0.1 - - [02/Dec/2019 18:20:58] \"GET /article-summary?url=https://www.cnn.com/2019/12/02/politics/house-republican-response-impeachment-inquiry/index.html&list_url=https://www.nytimes.com/2019/11/18/us/politics/trump-impeachment.html&list_url=https://www.nytimes.com/2019/11/06/us/politics/trump-impeachment-hearings.html&list_url=https://www.nytimes.com/2019/11/29/us/politics/house-judiciary-panel-asks-trump-if-he-will-present-impeachment-defense.html&list_url=https://www.cnn.com/2019/11/12/politics/house-republicans-trump-memo-impeachment-defense/index.html&list_url=https://www.nytimes.com/2019/12/02/us/politics/republican-impeachment-defense.html&list_url=https://www.nytimes.com/2019/11/14/podcasts/the-latest-impeachment-bribery.html&list_url=https://www.nytimes.com/2019/11/06/us/politics/william-taylor-ukraine-impeachment-testimony.html&list_url=https://www.nytimes.com/2019/11/26/us/politics/impeachment-trump-hearing.html&list_url=https://www.nytimes.com/2019/11/03/us/politics/whistleblower-impeachment-trump.html&list_url=https://www.nytimes.com/2019/11/29/us/politics/impeachment-trump-polls.html HTTP/1.1\" 200 -\n",
      "127.0.0.1 - - [02/Dec/2019 18:45:43] \"GET /article-summary?url=https://www.cnn.com/2019/12/02/politics/house-republican-response-impeachment-inquiry/index.html&list_url=https://www.nytimes.com/2019/11/18/us/politics/trump-impeachment.html&list_url=https://www.nytimes.com/2019/11/06/us/politics/trump-impeachment-hearings.html&list_url=https://www.nytimes.com/2019/11/29/us/politics/house-judiciary-panel-asks-trump-if-he-will-present-impeachment-defense.html&list_url=https://www.cnn.com/2019/11/12/politics/house-republicans-trump-memo-impeachment-defense/index.html&list_url=https://www.nytimes.com/2019/12/02/us/politics/republican-impeachment-defense.html&list_url=https://www.nytimes.com/2019/11/14/podcasts/the-latest-impeachment-bribery.html&list_url=https://www.nytimes.com/2019/11/06/us/politics/william-taylor-ukraine-impeachment-testimony.html&list_url=https://www.nytimes.com/2019/11/26/us/politics/impeachment-trump-hearing.html&list_url=https://www.nytimes.com/2019/11/03/us/politics/whistleblower-impeachment-trump.html&list_url=https://www.nytimes.com/2019/11/29/us/politics/impeachment-trump-polls.html HTTP/1.1\" 200 -\n",
      "127.0.0.1 - - [02/Dec/2019 18:52:13] \"GET /article-summary?url=https://www.cnn.com/2019/12/02/politics/house-republican-response-impeachment-inquiry/index.html&list_url=https://www.nytimes.com/2019/11/18/us/politics/trump-impeachment.html&list_url=https://www.nytimes.com/2019/11/06/us/politics/trump-impeachment-hearings.html&list_url=https://www.nytimes.com/2019/11/29/us/politics/house-judiciary-panel-asks-trump-if-he-will-present-impeachment-defense.html&list_url=https://www.cnn.com/2019/11/12/politics/house-republicans-trump-memo-impeachment-defense/index.html&list_url=https://www.nytimes.com/2019/12/02/us/politics/republican-impeachment-defense.html&list_url=https://www.nytimes.com/2019/11/14/podcasts/the-latest-impeachment-bribery.html&list_url=https://www.nytimes.com/2019/11/06/us/politics/william-taylor-ukraine-impeachment-testimony.html&list_url=https://www.nytimes.com/2019/11/26/us/politics/impeachment-trump-hearing.html&list_url=https://www.nytimes.com/2019/11/03/us/politics/whistleblower-impeachment-trump.html&list_url=https://www.nytimes.com/2019/11/29/us/politics/impeachment-trump-polls.html HTTP/1.1\" 200 -\n",
      "127.0.0.1 - - [02/Dec/2019 18:53:10] \"GET /article-summary?url=https://www.cnn.com/2019/12/02/politics/house-republican-response-impeachment-inquiry/index.html&list_url=https://www.nytimes.com/2019/11/18/us/politics/trump-impeachment.html&list_url=https://www.nytimes.com/2019/11/06/us/politics/trump-impeachment-hearings.html&list_url=https://www.nytimes.com/2019/11/29/us/politics/house-judiciary-panel-asks-trump-if-he-will-present-impeachment-defense.html&list_url=https://www.cnn.com/2019/11/12/politics/house-republicans-trump-memo-impeachment-defense/index.html&list_url=https://www.nytimes.com/2019/12/02/us/politics/republican-impeachment-defense.html&list_url=https://www.nytimes.com/2019/11/14/podcasts/the-latest-impeachment-bribery.html&list_url=https://www.nytimes.com/2019/11/06/us/politics/william-taylor-ukraine-impeachment-testimony.html&list_url=https://www.nytimes.com/2019/11/26/us/politics/impeachment-trump-hearing.html&list_url=https://www.nytimes.com/2019/11/03/us/politics/whistleblower-impeachment-trump.html&list_url=https://www.nytimes.com/2019/11/29/us/politics/impeachment-trump-polls.html HTTP/1.1\" 200 -\n"
     ]
    },
    {
     "name": "stderr",
     "output_type": "stream",
     "text": [
      "127.0.0.1 - - [02/Dec/2019 18:57:13] \"GET /article-summary?url=https://www.cnn.com/2019/12/02/politics/house-republican-response-impeachment-inquiry/index.html&list_url=https://www.nytimes.com/2019/11/18/us/politics/trump-impeachment.html&list_url=https://www.nytimes.com/2019/11/06/us/politics/trump-impeachment-hearings.html&list_url=https://www.nytimes.com/2019/11/29/us/politics/house-judiciary-panel-asks-trump-if-he-will-present-impeachment-defense.html&list_url=https://www.cnn.com/2019/11/12/politics/house-republicans-trump-memo-impeachment-defense/index.html&list_url=https://www.nytimes.com/2019/12/02/us/politics/republican-impeachment-defense.html&list_url=https://www.nytimes.com/2019/11/14/podcasts/the-latest-impeachment-bribery.html&list_url=https://www.nytimes.com/2019/11/06/us/politics/william-taylor-ukraine-impeachment-testimony.html&list_url=https://www.nytimes.com/2019/11/26/us/politics/impeachment-trump-hearing.html&list_url=https://www.nytimes.com/2019/11/03/us/politics/whistleblower-impeachment-trump.html&list_url=https://www.nytimes.com/2019/11/29/us/politics/impeachment-trump-polls.html HTTP/1.1\" 200 -\n",
      "127.0.0.1 - - [02/Dec/2019 18:57:16] \"GET /article-summary?url=https://www.cnn.com/2019/12/02/politics/house-republican-response-impeachment-inquiry/index.html&list_url=https://www.nytimes.com/2019/11/18/us/politics/trump-impeachment.html&list_url=https://www.nytimes.com/2019/11/06/us/politics/trump-impeachment-hearings.html&list_url=https://www.nytimes.com/2019/11/29/us/politics/house-judiciary-panel-asks-trump-if-he-will-present-impeachment-defense.html&list_url=https://www.cnn.com/2019/11/12/politics/house-republicans-trump-memo-impeachment-defense/index.html&list_url=https://www.nytimes.com/2019/12/02/us/politics/republican-impeachment-defense.html&list_url=https://www.nytimes.com/2019/11/14/podcasts/the-latest-impeachment-bribery.html&list_url=https://www.nytimes.com/2019/11/06/us/politics/william-taylor-ukraine-impeachment-testimony.html&list_url=https://www.nytimes.com/2019/11/26/us/politics/impeachment-trump-hearing.html&list_url=https://www.nytimes.com/2019/11/03/us/politics/whistleblower-impeachment-trump.html&list_url=https://www.nytimes.com/2019/11/29/us/politics/impeachment-trump-polls.html HTTP/1.1\" 200 -\n",
      "127.0.0.1 - - [02/Dec/2019 18:57:47] \"GET /article-summary?url=https://www.cnn.com/2019/12/02/politics/house-republican-response-impeachment-inquiry/index.html&list_url=https://www.nytimes.com/2019/11/18/us/politics/trump-impeachment.html&list_url=https://www.nytimes.com/2019/11/06/us/politics/trump-impeachment-hearings.html&list_url=https://www.nytimes.com/2019/11/29/us/politics/house-judiciary-panel-asks-trump-if-he-will-present-impeachment-defense.html&list_url=https://www.cnn.com/2019/11/12/politics/house-republicans-trump-memo-impeachment-defense/index.html&list_url=https://www.nytimes.com/2019/12/02/us/politics/republican-impeachment-defense.html&list_url=https://www.nytimes.com/2019/11/14/podcasts/the-latest-impeachment-bribery.html&list_url=https://www.nytimes.com/2019/11/06/us/politics/william-taylor-ukraine-impeachment-testimony.html&list_url=https://www.nytimes.com/2019/11/26/us/politics/impeachment-trump-hearing.html&list_url=https://www.nytimes.com/2019/11/03/us/politics/whistleblower-impeachment-trump.html&list_url=https://www.nytimes.com/2019/11/29/us/politics/impeachment-trump-polls.html HTTP/1.1\" 200 -\n",
      "127.0.0.1 - - [02/Dec/2019 18:58:01] \"GET /article-summary?url=https://www.cnn.com/2019/12/02/politics/house-republican-response-impeachment-inquiry/index.html&list_url=https://www.nytimes.com/2019/11/18/us/politics/trump-impeachment.html&list_url=https://www.nytimes.com/2019/11/06/us/politics/trump-impeachment-hearings.html&list_url=https://www.nytimes.com/2019/11/29/us/politics/house-judiciary-panel-asks-trump-if-he-will-present-impeachment-defense.html&list_url=https://www.cnn.com/2019/11/12/politics/house-republicans-trump-memo-impeachment-defense/index.html&list_url=https://www.nytimes.com/2019/12/02/us/politics/republican-impeachment-defense.html&list_url=https://www.nytimes.com/2019/11/14/podcasts/the-latest-impeachment-bribery.html&list_url=https://www.nytimes.com/2019/11/06/us/politics/william-taylor-ukraine-impeachment-testimony.html&list_url=https://www.nytimes.com/2019/11/26/us/politics/impeachment-trump-hearing.html&list_url=https://www.nytimes.com/2019/11/03/us/politics/whistleblower-impeachment-trump.html&list_url=https://www.nytimes.com/2019/11/29/us/politics/impeachment-trump-polls.html HTTP/1.1\" 200 -\n",
      "127.0.0.1 - - [02/Dec/2019 18:58:29] \"GET /article-summary?url=https://www.cnn.com/2019/12/02/politics/house-republican-response-impeachment-inquiry/index.html&list_url=https://www.nytimes.com/2019/11/18/us/politics/trump-impeachment.html&list_url=https://www.nytimes.com/2019/11/06/us/politics/trump-impeachment-hearings.html&list_url=https://www.nytimes.com/2019/11/29/us/politics/house-judiciary-panel-asks-trump-if-he-will-present-impeachment-defense.html&list_url=https://www.cnn.com/2019/11/12/politics/house-republicans-trump-memo-impeachment-defense/index.html&list_url=https://www.nytimes.com/2019/12/02/us/politics/republican-impeachment-defense.html&list_url=https://www.nytimes.com/2019/11/14/podcasts/the-latest-impeachment-bribery.html&list_url=https://www.nytimes.com/2019/11/06/us/politics/william-taylor-ukraine-impeachment-testimony.html&list_url=https://www.nytimes.com/2019/11/26/us/politics/impeachment-trump-hearing.html&list_url=https://www.nytimes.com/2019/11/03/us/politics/whistleblower-impeachment-trump.html&list_url=https://www.nytimes.com/2019/11/29/us/politics/impeachment-trump-polls.html HTTP/1.1\" 200 -\n",
      "127.0.0.1 - - [02/Dec/2019 19:07:13] \"GET /article-summary?url=https://www.cnn.com/2019/12/02/politics/house-republican-response-impeachment-inquiry/index.html&list_url=https://www.nytimes.com/2019/11/18/us/politics/trump-impeachment.html&list_url=https://www.nytimes.com/2019/11/06/us/politics/trump-impeachment-hearings.html&list_url=https://www.nytimes.com/2019/11/29/us/politics/house-judiciary-panel-asks-trump-if-he-will-present-impeachment-defense.html&list_url=https://www.cnn.com/2019/11/12/politics/house-republicans-trump-memo-impeachment-defense/index.html&list_url=https://www.nytimes.com/2019/12/02/us/politics/republican-impeachment-defense.html&list_url=https://www.nytimes.com/2019/11/14/podcasts/the-latest-impeachment-bribery.html&list_url=https://www.nytimes.com/2019/11/06/us/politics/william-taylor-ukraine-impeachment-testimony.html&list_url=https://www.nytimes.com/2019/11/26/us/politics/impeachment-trump-hearing.html&list_url=https://www.nytimes.com/2019/11/03/us/politics/whistleblower-impeachment-trump.html&list_url=https://www.nytimes.com/2019/11/29/us/politics/impeachment-trump-polls.html HTTP/1.1\" 200 -\n",
      "127.0.0.1 - - [02/Dec/2019 19:08:30] \"GET /article-summary?url=https://www.cnn.com/2019/12/02/politics/house-republican-response-impeachment-inquiry/index.html&list_url=https://www.nytimes.com/2019/11/18/us/politics/trump-impeachment.html&list_url=https://www.nytimes.com/2019/11/06/us/politics/trump-impeachment-hearings.html&list_url=https://www.nytimes.com/2019/11/29/us/politics/house-judiciary-panel-asks-trump-if-he-will-present-impeachment-defense.html&list_url=https://www.cnn.com/2019/11/12/politics/house-republicans-trump-memo-impeachment-defense/index.html&list_url=https://www.nytimes.com/2019/12/02/us/politics/republican-impeachment-defense.html&list_url=https://www.nytimes.com/2019/11/14/podcasts/the-latest-impeachment-bribery.html&list_url=https://www.nytimes.com/2019/11/06/us/politics/william-taylor-ukraine-impeachment-testimony.html&list_url=https://www.nytimes.com/2019/11/26/us/politics/impeachment-trump-hearing.html&list_url=https://www.nytimes.com/2019/11/03/us/politics/whistleblower-impeachment-trump.html&list_url=https://www.nytimes.com/2019/11/29/us/politics/impeachment-trump-polls.html HTTP/1.1\" 200 -\n",
      "127.0.0.1 - - [02/Dec/2019 19:11:34] \"GET /article-summary?url=https://www.cnn.com/2019/12/02/politics/house-republican-response-impeachment-inquiry/index.html&list_url=https://www.nytimes.com/2019/11/18/us/politics/trump-impeachment.html&list_url=https://www.nytimes.com/2019/11/06/us/politics/trump-impeachment-hearings.html&list_url=https://www.nytimes.com/2019/11/29/us/politics/house-judiciary-panel-asks-trump-if-he-will-present-impeachment-defense.html&list_url=https://www.cnn.com/2019/11/12/politics/house-republicans-trump-memo-impeachment-defense/index.html&list_url=https://www.nytimes.com/2019/12/02/us/politics/republican-impeachment-defense.html&list_url=https://www.nytimes.com/2019/11/14/podcasts/the-latest-impeachment-bribery.html&list_url=https://www.nytimes.com/2019/11/06/us/politics/william-taylor-ukraine-impeachment-testimony.html&list_url=https://www.nytimes.com/2019/11/26/us/politics/impeachment-trump-hearing.html&list_url=https://www.nytimes.com/2019/11/03/us/politics/whistleblower-impeachment-trump.html&list_url=https://www.nytimes.com/2019/11/29/us/politics/impeachment-trump-polls.html HTTP/1.1\" 200 -\n"
     ]
    },
    {
     "name": "stderr",
     "output_type": "stream",
     "text": [
      "127.0.0.1 - - [02/Dec/2019 19:11:53] \"GET /article-summary?url=https://www.cnn.com/2019/12/02/politics/house-republican-response-impeachment-inquiry/index.html&list_url=https://www.nytimes.com/2019/11/18/us/politics/trump-impeachment.html&list_url=https://www.nytimes.com/2019/11/06/us/politics/trump-impeachment-hearings.html&list_url=https://www.nytimes.com/2019/11/29/us/politics/house-judiciary-panel-asks-trump-if-he-will-present-impeachment-defense.html&list_url=https://www.cnn.com/2019/11/12/politics/house-republicans-trump-memo-impeachment-defense/index.html&list_url=https://www.nytimes.com/2019/12/02/us/politics/republican-impeachment-defense.html&list_url=https://www.nytimes.com/2019/11/14/podcasts/the-latest-impeachment-bribery.html&list_url=https://www.nytimes.com/2019/11/06/us/politics/william-taylor-ukraine-impeachment-testimony.html&list_url=https://www.nytimes.com/2019/11/26/us/politics/impeachment-trump-hearing.html&list_url=https://www.nytimes.com/2019/11/03/us/politics/whistleblower-impeachment-trump.html&list_url=https://www.nytimes.com/2019/11/29/us/politics/impeachment-trump-polls.html HTTP/1.1\" 200 -\n",
      "127.0.0.1 - - [02/Dec/2019 19:13:25] \"GET /article-summary?url=https://www.cnn.com/2019/12/02/politics/george-conway-kellyanne-conway/index.html&list_url=https://www.cnn.com/2019/12/02/politics/george-conway-kellyanne-conway/index.html&list_url=https://www.insider.com/george-conway-and-kellyanne-conway-go-on-opposing-tv-networks-2019-11&list_url=https://www.nytimes.com/2019/11/29/opinion/woke-impeachment-trump.html&list_url=https://www.nytimes.com/2019/11/12/us/politics/maya-rockeymoore-cummings-congress.html&list_url=https://www.huffpost.com/entry/george-conway-republicans-obama_n_5dcce803e4b0d43931cf393e&list_url=https://www.insider.com/george-conway-and-kellyanne-conway-go-on-opposing-tv-networks-2019-11&list_url=https://www.cnn.com/videos/politics/2019/11/09/cindy-mccain-on-gop-axefiles-vpx.cnn&list_url=https://mashable.com/article/mrs-fletcher-kathryn-hahn/&list_url=https://www.nytimes.com/2019/12/02/us/politics/republican-impeachment-defense.html&list_url=https://www.cnn.com/2019/11/12/politics/trump-impeachment-defense-tweets/index.html HTTP/1.1\" 200 -\n",
      "127.0.0.1 - - [02/Dec/2019 19:18:53] \"GET /article-summary?url=https://www.cnn.com/2019/12/02/politics/george-conway-kellyanne-conway/index.html&list_url=https://www.cnn.com/2019/12/02/politics/george-conway-kellyanne-conway/index.html&list_url=https://www.insider.com/george-conway-and-kellyanne-conway-go-on-opposing-tv-networks-2019-11&list_url=https://www.nytimes.com/2019/11/29/opinion/woke-impeachment-trump.html&list_url=https://www.nytimes.com/2019/11/12/us/politics/maya-rockeymoore-cummings-congress.html&list_url=https://www.huffpost.com/entry/george-conway-republicans-obama_n_5dcce803e4b0d43931cf393e&list_url=https://www.insider.com/george-conway-and-kellyanne-conway-go-on-opposing-tv-networks-2019-11&list_url=https://www.cnn.com/videos/politics/2019/11/09/cindy-mccain-on-gop-axefiles-vpx.cnn&list_url=https://mashable.com/article/mrs-fletcher-kathryn-hahn/&list_url=https://www.nytimes.com/2019/12/02/us/politics/republican-impeachment-defense.html&list_url=https://www.cnn.com/2019/11/12/politics/trump-impeachment-defense-tweets/index.html HTTP/1.1\" 200 -\n",
      "127.0.0.1 - - [02/Dec/2019 19:20:48] \"GET /article-summary?url=https://www.cnn.com/2019/12/02/politics/george-conway-kellyanne-conway/index.html&list_url=https://www.cnn.com/2019/12/02/politics/george-conway-kellyanne-conway/index.html&list_url=https://www.insider.com/george-conway-and-kellyanne-conway-go-on-opposing-tv-networks-2019-11&list_url=https://www.nytimes.com/2019/11/29/opinion/woke-impeachment-trump.html&list_url=https://www.nytimes.com/2019/11/12/us/politics/maya-rockeymoore-cummings-congress.html&list_url=https://www.huffpost.com/entry/george-conway-republicans-obama_n_5dcce803e4b0d43931cf393e&list_url=https://www.insider.com/george-conway-and-kellyanne-conway-go-on-opposing-tv-networks-2019-11&list_url=https://www.cnn.com/videos/politics/2019/11/09/cindy-mccain-on-gop-axefiles-vpx.cnn&list_url=https://mashable.com/article/mrs-fletcher-kathryn-hahn/&list_url=https://www.nytimes.com/2019/12/02/us/politics/republican-impeachment-defense.html&list_url=https://www.cnn.com/2019/11/12/politics/trump-impeachment-defense-tweets/index.html HTTP/1.1\" 200 -\n",
      "127.0.0.1 - - [02/Dec/2019 19:21:11] \"GET /article-summary?url=https://www.cnn.com/2019/12/02/politics/george-conway-kellyanne-conway/index.html&list_url=https://www.cnn.com/2019/12/02/politics/george-conway-kellyanne-conway/index.html&list_url=https://www.insider.com/george-conway-and-kellyanne-conway-go-on-opposing-tv-networks-2019-11&list_url=https://www.nytimes.com/2019/11/29/opinion/woke-impeachment-trump.html&list_url=https://www.nytimes.com/2019/11/12/us/politics/maya-rockeymoore-cummings-congress.html&list_url=https://www.huffpost.com/entry/george-conway-republicans-obama_n_5dcce803e4b0d43931cf393e&list_url=https://www.insider.com/george-conway-and-kellyanne-conway-go-on-opposing-tv-networks-2019-11&list_url=https://www.cnn.com/videos/politics/2019/11/09/cindy-mccain-on-gop-axefiles-vpx.cnn&list_url=https://mashable.com/article/mrs-fletcher-kathryn-hahn/&list_url=https://www.nytimes.com/2019/12/02/us/politics/republican-impeachment-defense.html&list_url=https://www.cnn.com/2019/11/12/politics/trump-impeachment-defense-tweets/index.html HTTP/1.1\" 200 -\n",
      "127.0.0.1 - - [02/Dec/2019 19:21:34] \"GET /article-summary?url=https://www.cnn.com/2019/12/02/politics/george-conway-kellyanne-conway/index.html&list_url=https://www.cnn.com/2019/12/02/politics/george-conway-kellyanne-conway/index.html&list_url=https://www.insider.com/george-conway-and-kellyanne-conway-go-on-opposing-tv-networks-2019-11&list_url=https://www.nytimes.com/2019/11/29/opinion/woke-impeachment-trump.html&list_url=https://www.nytimes.com/2019/11/12/us/politics/maya-rockeymoore-cummings-congress.html&list_url=https://www.huffpost.com/entry/george-conway-republicans-obama_n_5dcce803e4b0d43931cf393e&list_url=https://www.insider.com/george-conway-and-kellyanne-conway-go-on-opposing-tv-networks-2019-11&list_url=https://www.cnn.com/videos/politics/2019/11/09/cindy-mccain-on-gop-axefiles-vpx.cnn&list_url=https://mashable.com/article/mrs-fletcher-kathryn-hahn/&list_url=https://www.nytimes.com/2019/12/02/us/politics/republican-impeachment-defense.html&list_url=https://www.cnn.com/2019/11/12/politics/trump-impeachment-defense-tweets/index.html HTTP/1.1\" 200 -\n",
      "127.0.0.1 - - [02/Dec/2019 19:21:59] \"GET /article-summary?url=https://www.cnn.com/2019/12/02/politics/george-conway-kellyanne-conway/index.html&list_url=https://www.cnn.com/2019/12/02/politics/george-conway-kellyanne-conway/index.html&list_url=https://www.insider.com/george-conway-and-kellyanne-conway-go-on-opposing-tv-networks-2019-11&list_url=https://www.nytimes.com/2019/11/29/opinion/woke-impeachment-trump.html&list_url=https://www.nytimes.com/2019/11/12/us/politics/maya-rockeymoore-cummings-congress.html&list_url=https://www.huffpost.com/entry/george-conway-republicans-obama_n_5dcce803e4b0d43931cf393e&list_url=https://www.insider.com/george-conway-and-kellyanne-conway-go-on-opposing-tv-networks-2019-11&list_url=https://www.cnn.com/videos/politics/2019/11/09/cindy-mccain-on-gop-axefiles-vpx.cnn&list_url=https://mashable.com/article/mrs-fletcher-kathryn-hahn/&list_url=https://www.nytimes.com/2019/12/02/us/politics/republican-impeachment-defense.html&list_url=https://www.cnn.com/2019/11/12/politics/trump-impeachment-defense-tweets/index.html HTTP/1.1\" 200 -\n",
      "127.0.0.1 - - [02/Dec/2019 19:25:22] \"GET /article-summary?url=https://www.cnn.com/2019/12/02/politics/george-conway-kellyanne-conway/index.html&list_url=https://www.cnn.com/2019/12/02/politics/george-conway-kellyanne-conway/index.html&list_url=https://www.insider.com/george-conway-and-kellyanne-conway-go-on-opposing-tv-networks-2019-11&list_url=https://www.nytimes.com/2019/11/29/opinion/woke-impeachment-trump.html&list_url=https://www.nytimes.com/2019/11/12/us/politics/maya-rockeymoore-cummings-congress.html&list_url=https://www.huffpost.com/entry/george-conway-republicans-obama_n_5dcce803e4b0d43931cf393e&list_url=https://www.insider.com/george-conway-and-kellyanne-conway-go-on-opposing-tv-networks-2019-11&list_url=https://www.cnn.com/videos/politics/2019/11/09/cindy-mccain-on-gop-axefiles-vpx.cnn&list_url=https://mashable.com/article/mrs-fletcher-kathryn-hahn/&list_url=https://www.nytimes.com/2019/12/02/us/politics/republican-impeachment-defense.html&list_url=https://www.cnn.com/2019/11/12/politics/trump-impeachment-defense-tweets/index.html HTTP/1.1\" 200 -\n"
     ]
    },
    {
     "name": "stderr",
     "output_type": "stream",
     "text": [
      "127.0.0.1 - - [02/Dec/2019 19:25:31] \"GET /article-summary?url=https://www.cnn.com/2019/12/02/politics/george-conway-kellyanne-conway/index.html&list_url=https://www.cnn.com/2019/12/02/politics/george-conway-kellyanne-conway/index.html&list_url=https://www.insider.com/george-conway-and-kellyanne-conway-go-on-opposing-tv-networks-2019-11&list_url=https://www.nytimes.com/2019/11/29/opinion/woke-impeachment-trump.html&list_url=https://www.nytimes.com/2019/11/12/us/politics/maya-rockeymoore-cummings-congress.html&list_url=https://www.huffpost.com/entry/george-conway-republicans-obama_n_5dcce803e4b0d43931cf393e&list_url=https://www.insider.com/george-conway-and-kellyanne-conway-go-on-opposing-tv-networks-2019-11&list_url=https://www.cnn.com/videos/politics/2019/11/09/cindy-mccain-on-gop-axefiles-vpx.cnn&list_url=https://mashable.com/article/mrs-fletcher-kathryn-hahn/&list_url=https://www.nytimes.com/2019/12/02/us/politics/republican-impeachment-defense.html&list_url=https://www.cnn.com/2019/11/12/politics/trump-impeachment-defense-tweets/index.html HTTP/1.1\" 200 -\n",
      "127.0.0.1 - - [02/Dec/2019 19:25:43] \"GET /article-summary?url=https://www.cnn.com/2019/12/02/politics/george-conway-kellyanne-conway/index.html&list_url=https://www.cnn.com/2019/12/02/politics/george-conway-kellyanne-conway/index.html&list_url=https://www.insider.com/george-conway-and-kellyanne-conway-go-on-opposing-tv-networks-2019-11&list_url=https://www.nytimes.com/2019/11/29/opinion/woke-impeachment-trump.html&list_url=https://www.nytimes.com/2019/11/12/us/politics/maya-rockeymoore-cummings-congress.html&list_url=https://www.huffpost.com/entry/george-conway-republicans-obama_n_5dcce803e4b0d43931cf393e&list_url=https://www.insider.com/george-conway-and-kellyanne-conway-go-on-opposing-tv-networks-2019-11&list_url=https://www.cnn.com/videos/politics/2019/11/09/cindy-mccain-on-gop-axefiles-vpx.cnn&list_url=https://mashable.com/article/mrs-fletcher-kathryn-hahn/&list_url=https://www.nytimes.com/2019/12/02/us/politics/republican-impeachment-defense.html&list_url=https://www.cnn.com/2019/11/12/politics/trump-impeachment-defense-tweets/index.html HTTP/1.1\" 200 -\n",
      "127.0.0.1 - - [03/Dec/2019 13:37:44] \"GET /article-summary?url=https://www.cnn.com/2019/12/02/politics/george-conway-kellyanne-conway/index.html&list_url=https://www.cnn.com/2019/12/02/politics/george-conway-kellyanne-conway/index.html&list_url=https://www.insider.com/george-conway-and-kellyanne-conway-go-on-opposing-tv-networks-2019-11&list_url=https://www.nytimes.com/2019/11/29/opinion/woke-impeachment-trump.html&list_url=https://www.nytimes.com/2019/11/12/us/politics/maya-rockeymoore-cummings-congress.html&list_url=https://www.huffpost.com/entry/george-conway-republicans-obama_n_5dcce803e4b0d43931cf393e&list_url=https://www.insider.com/george-conway-and-kellyanne-conway-go-on-opposing-tv-networks-2019-11&list_url=https://www.cnn.com/videos/politics/2019/11/09/cindy-mccain-on-gop-axefiles-vpx.cnn&list_url=https://mashable.com/article/mrs-fletcher-kathryn-hahn/&list_url=https://www.nytimes.com/2019/12/02/us/politics/republican-impeachment-defense.html&list_url=https://www.cnn.com/2019/11/12/politics/trump-impeachment-defense-tweets/index.html HTTP/1.1\" 200 -\n"
     ]
    }
   ],
   "source": [
    "from flask import Flask, request, jsonify\n",
    "from flask_restful import Resource, Api\n",
    "from newspaper import Article\n",
    "import nltk\n",
    "import re\n",
    "from collections import defaultdict\n",
    "from gensim import corpora\n",
    "import json\n",
    "\n",
    "# import logging\n",
    "# logging.basicConfig(format='%(asctime)s : %(levelname)s : %(message)s', level=logging.INFO)\n",
    "nltk.download('punkt')\n",
    "\n",
    "app = Flask(__name__)\n",
    "api = Api(app)\n",
    "\n",
    "@app.route('/article-summary',methods=['GET'])\n",
    "\n",
    "def article_summary():\n",
    "    source_url = request.args.get('url')\n",
    "    list_of_urls = request.args.getlist('list_url')\n",
    "    summary_source = get_summary(source_url)\n",
    "    summaries_target = []\n",
    "    for item in list_of_urls:\n",
    "        item_summary = get_summary(item)\n",
    "        summaries_target.append(item_summary)\n",
    "\n",
    "    documents = summaries_target\n",
    "\n",
    "    stoplist = set('about a above above across after afterwards again against all almost alone along already also although always am among amongst amoungst amount an and another any anyhow anyone anything anyway anywhere are around as at back be became because become becomes becoming been before beforehand behind being below beside besides between beyond bill both bottom but by call can cannot cant co con could couldnt cry de describe detail do done down due during each eg eight either eleven else elsewhere empty enough etc even ever every everyone everything everywhere except few fifteen fify fill find fire first five for former formerly forty found four from front full further get give go had has hasnt have he hence her here hereafter hereby herein hereupon hers herself him himself his how however hundred ie if in inc indeed interest into is it its itself keep last latter latterly least less ltd made many may me meanwhile might mill mine more moreover most mostly move much must my myself name namely neither never nevertheless next nine no nobody none noone nor not nothing now nowhere of off often on once one only onto or other others otherwise our ours ourselves out over own part per perhaps please put rather re same see seem seemed seeming seems serious several she should show side since sincere six sixty so some somehow someone something sometime sometimes somewhere still such system take ten than that the their them themselves then thence there thereafter thereby therefore therein thereupon these they thick thin third this those though three through throughout thru thus to together too top toward towards twelve twenty two un under until up upon us very via was we well were what whatever when whence whenever where whereafter whereas whereby wherein whereupon wherever whether which while whither who whoever whole whom whose why will with within without would yet you your yours yourself yourselves the for a of the and to in'.split())\n",
    "    texts = [\n",
    "        [word for word in document.lower().split() if word not in stoplist]\n",
    "        for document in documents\n",
    "    ]\n",
    "\n",
    "    # remove words that appear only once\n",
    "    frequency = defaultdict(int)\n",
    "    for text in texts:\n",
    "        for token in text:\n",
    "            frequency[token] += 1\n",
    "\n",
    "    texts = [\n",
    "        [token for token in text if frequency[token] > 1]\n",
    "        for text in texts\n",
    "    ]\n",
    "\n",
    "    dictionary = corpora.Dictionary(texts)\n",
    "    corpus = [dictionary.doc2bow(text) for text in texts]\n",
    "    \n",
    "    from gensim import models\n",
    "    lsi = models.LsiModel(corpus, id2word=dictionary, num_topics=2)\n",
    "    \n",
    "    doc=summary_source\n",
    "    vec_bow = dictionary.doc2bow(doc.lower().split())\n",
    "    vec_lsi = lsi[vec_bow] \n",
    "    from gensim import similarities\n",
    "    index = similarities.MatrixSimilarity(lsi[corpus])\n",
    "    sims = index[vec_lsi]  # perform a similarity query against the corpus\n",
    "    sims = sorted(enumerate(sims), key=lambda item: -item[1])\n",
    "    list_of_indices = []\n",
    "    for i, s in enumerate(sims):\n",
    "        list_of_indices.append(str(s[0]))\n",
    "  \n",
    "    response = jsonify(list_of_indices)\n",
    "    response.headers.add('Access-Control-Allow-Origin', '*')\n",
    "    return response\n",
    "  \n",
    "class result:\n",
    "    def __init__(self, idx, score):\n",
    "        self.idx = idx\n",
    "        self.score = score\n",
    "    \n",
    "\n",
    "def get_summary(url):\n",
    "    article = Article(url)\n",
    "    article.download()\n",
    "    article.parse()\n",
    "    article.nlp()\n",
    "    summary = article.summary\n",
    "    regex = re.compile(r'[\\n\\r\\t]')\n",
    "    summary = regex.sub(\"\", summary)\n",
    "    return summary\n",
    "\n",
    "if __name__ == \"__main__\":\n",
    "\tapp.run()"
   ]
  },
  {
   "cell_type": "code",
   "execution_count": 5,
   "metadata": {},
   "outputs": [],
   "source": [
    "@app.route(\"/home\")\n",
    "def output():\n",
    "\treturn \"Hello World!\"\n",
    "\n",
    "\n",
    "\n",
    "    \n",
    "    "
   ]
  },
  {
   "cell_type": "code",
   "execution_count": 6,
   "metadata": {},
   "outputs": [
    {
     "name": "stdout",
     "output_type": "stream",
     "text": [
      " * Serving Flask app \"__main__\" (lazy loading)\n",
      " * Environment: production\n",
      "   WARNING: This is a development server. Do not use it in a production deployment.\n",
      "   Use a production WSGI server instead.\n",
      " * Debug mode: off\n"
     ]
    },
    {
     "name": "stderr",
     "output_type": "stream",
     "text": [
      " * Running on http://127.0.0.1:5000/ (Press CTRL+C to quit)\n"
     ]
    }
   ],
   "source": [
    "if __name__ == \"__main__\":\n",
    "\tapp.run()"
   ]
  },
  {
   "cell_type": "code",
   "execution_count": 7,
   "metadata": {},
   "outputs": [
    {
     "name": "stdout",
     "output_type": "stream",
     "text": [
      " * Serving Flask app \"__main__\" (lazy loading)\n",
      " * Environment: production\n",
      "   WARNING: This is a development server. Do not use it in a production deployment.\n",
      "   Use a production WSGI server instead.\n",
      " * Debug mode: off\n"
     ]
    },
    {
     "name": "stderr",
     "output_type": "stream",
     "text": [
      "[nltk_data] Downloading package punkt to\n",
      "[nltk_data]     /Users/soundaryatekkalakota/nltk_data...\n",
      "[nltk_data]   Package punkt is already up-to-date!\n",
      " * Running on http://127.0.0.1:5000/ (Press CTRL+C to quit)\n"
     ]
    }
   ],
   "source": [
    "from flask import Flask, request, jsonify\n",
    "from flask_restful import Resource, Api\n",
    "from newspaper import Article\n",
    "import nltk\n",
    "import re\n",
    "from collections import defaultdict\n",
    "from gensim import corpora\n",
    "import json\n",
    "\n",
    "# import logging\n",
    "# logging.basicConfig(format='%(asctime)s : %(levelname)s : %(message)s', level=logging.INFO)\n",
    "nltk.download('punkt')\n",
    "\n",
    "app = Flask(__name__)\n",
    "api = Api(app)\n",
    "\n",
    "@app.route('/article-summary',methods=['GET'])\n",
    "\n",
    "def article_summary():\n",
    "    source_title = request.args.get('title')\n",
    "    list_of_urls = request.args.getlist('list_url')\n",
    "    summary_source = source_title\n",
    "    summaries_target = []\n",
    "    for item in list_of_urls:\n",
    "        item_summary = get_summary(item)\n",
    "        summaries_target.append(item_summary)\n",
    "\n",
    "    documents = summaries_target\n",
    "\n",
    "    stoplist = set('about a above above across after afterwards again against all almost alone along already also although always am among amongst amoungst amount an and another any anyhow anyone anything anyway anywhere are around as at back be became because become becomes becoming been before beforehand behind being below beside besides between beyond bill both bottom but by call can cannot cant co con could couldnt cry de describe detail do done down due during each eg eight either eleven else elsewhere empty enough etc even ever every everyone everything everywhere except few fifteen fify fill find fire first five for former formerly forty found four from front full further get give go had has hasnt have he hence her here hereafter hereby herein hereupon hers herself him himself his how however hundred ie if in inc indeed interest into is it its itself keep last latter latterly least less ltd made many may me meanwhile might mill mine more moreover most mostly move much must my myself name namely neither never nevertheless next nine no nobody none noone nor not nothing now nowhere of off often on once one only onto or other others otherwise our ours ourselves out over own part per perhaps please put rather re same see seem seemed seeming seems serious several she should show side since sincere six sixty so some somehow someone something sometime sometimes somewhere still such system take ten than that the their them themselves then thence there thereafter thereby therefore therein thereupon these they thick thin third this those though three through throughout thru thus to together too top toward towards twelve twenty two un under until up upon us very via was we well were what whatever when whence whenever where whereafter whereas whereby wherein whereupon wherever whether which while whither who whoever whole whom whose why will with within without would yet you your yours yourself yourselves the for a of the and to in'.split())\n",
    "    texts = [\n",
    "        [word for word in document.lower().split() if word not in stoplist]\n",
    "        for document in documents\n",
    "    ]\n",
    "\n",
    "    # remove words that appear only once\n",
    "    frequency = defaultdict(int)\n",
    "    for text in texts:\n",
    "        for token in text:\n",
    "            frequency[token] += 1\n",
    "\n",
    "    texts = [\n",
    "        [token for token in text if frequency[token] > 1]\n",
    "        for text in texts\n",
    "    ]\n",
    "\n",
    "    dictionary = corpora.Dictionary(texts)\n",
    "    corpus = [dictionary.doc2bow(text) for text in texts]\n",
    "    \n",
    "    from gensim import models\n",
    "    lsi = models.LsiModel(corpus, id2word=dictionary, num_topics=2)\n",
    "    \n",
    "    doc=summary_source\n",
    "    vec_bow = dictionary.doc2bow(doc.lower().split())\n",
    "    vec_lsi = lsi[vec_bow] \n",
    "    from gensim import similarities\n",
    "    index = similarities.MatrixSimilarity(lsi[corpus])\n",
    "    sims = index[vec_lsi]  # perform a similarity query against the corpus\n",
    "    sims = sorted(enumerate(sims), key=lambda item: -item[1])\n",
    "    list_of_indices = []\n",
    "    for i, s in enumerate(sims):\n",
    "        list_of_indices.append(str(s[0]))\n",
    "  \n",
    "    response = jsonify(list_of_indices)\n",
    "    response.headers.add('Access-Control-Allow-Origin', '*')\n",
    "    return response\n",
    "  \n",
    "class result:\n",
    "    def __init__(self, idx, score):\n",
    "        self.idx = idx\n",
    "        self.score = score\n",
    "    \n",
    "\n",
    "def get_summary(url):\n",
    "    article = Article(url)\n",
    "    article.download()\n",
    "    article.parse()\n",
    "    article.nlp()\n",
    "    summary = article.summary\n",
    "    regex = re.compile(r'[\\n\\r\\t]')\n",
    "    summary = regex.sub(\"\", summary)\n",
    "    return summary\n",
    "\n",
    "if __name__ == \"__main__\":\n",
    "\tapp.run()"
   ]
  },
  {
   "cell_type": "code",
   "execution_count": null,
   "metadata": {},
   "outputs": [],
   "source": []
  }
 ],
 "metadata": {
  "kernelspec": {
   "display_name": "Python 3",
   "language": "python",
   "name": "python3"
  },
  "language_info": {
   "codemirror_mode": {
    "name": "ipython",
    "version": 3
   },
   "file_extension": ".py",
   "mimetype": "text/x-python",
   "name": "python",
   "nbconvert_exporter": "python",
   "pygments_lexer": "ipython3",
   "version": "3.7.4"
  }
 },
 "nbformat": 4,
 "nbformat_minor": 2
}
