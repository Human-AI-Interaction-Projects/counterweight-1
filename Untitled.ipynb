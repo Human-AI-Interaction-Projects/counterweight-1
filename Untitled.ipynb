{
 "cells": [
  {
   "cell_type": "code",
   "execution_count": 1,
   "metadata": {},
   "outputs": [
    {
     "name": "stdout",
     "output_type": "stream",
     "text": [
      " * Serving Flask app \"__main__\" (lazy loading)\n",
      " * Environment: production\n",
      "   WARNING: This is a development server. Do not use it in a production deployment.\n",
      "   Use a production WSGI server instead.\n",
      " * Debug mode: off\n"
     ]
    },
    {
     "name": "stderr",
     "output_type": "stream",
     "text": [
      "[nltk_data] Downloading package punkt to\n",
      "[nltk_data]     /Users/soundaryatekkalakota/nltk_data...\n",
      "[nltk_data]   Package punkt is already up-to-date!\n",
      "2019-12-02 17:11:07,650 : INFO :  * Running on http://127.0.0.1:5000/ (Press CTRL+C to quit)\n",
      "2019-12-02 17:11:35,087 : INFO : 127.0.0.1 - - [02/Dec/2019 17:11:35] \"GET /article-summary?url=https://www.cnn.com/2019/12/02/politics/house-republican-response-impeachment-inquiry/index.html&list_url=https://www.nytimes.com/2019/11/18/us/politics/trump-impeachment.html&list_url=https://www.nytimes.com/2019/11/06/us/politics/trump-impeachment-hearings.html&list_url=https://www.nytimes.com/2019/11/29/us/politics/house-judiciary-panel-asks-trump-if-he-will-present-impeachment-defense.html&list_url=https://www.cnn.com/2019/11/12/politics/house-republicans-trump-memo-impeachment-defense/index.html&list_url=https://www.nytimes.com/2019/12/02/us/politics/republican-impeachment-defense.html&list_url=https://www.nytimes.com/2019/11/14/podcasts/the-latest-impeachment-bribery.html&list_url=https://www.nytimes.com/2019/11/06/us/politics/william-taylor-ukraine-impeachment-testimony.html&list_url=https://www.nytimes.com/2019/11/26/us/politics/impeachment-trump-hearing.html&list_url=https://www.nytimes.com/2019/11/03/us/politics/whistleblower-impeachment-trump.html&list_url=https://www.nytimes.com/2019/11/29/us/politics/impeachment-trump-polls.html HTTP/1.1\" 200 -\n",
      "2019-12-02 17:11:44,900 : INFO : 127.0.0.1 - - [02/Dec/2019 17:11:44] \"GET /article-summary?url=https://www.cnn.com/2019/12/02/politics/house-republican-response-impeachment-inquiry/index.html&list_url=https://www.nytimes.com/2019/11/18/us/politics/trump-impeachment.html&list_url=https://www.nytimes.com/2019/11/06/us/politics/trump-impeachment-hearings.html&list_url=https://www.nytimes.com/2019/11/29/us/politics/house-judiciary-panel-asks-trump-if-he-will-present-impeachment-defense.html&list_url=https://www.cnn.com/2019/11/12/politics/house-republicans-trump-memo-impeachment-defense/index.html&list_url=https://www.nytimes.com/2019/12/02/us/politics/republican-impeachment-defense.html&list_url=https://www.nytimes.com/2019/11/14/podcasts/the-latest-impeachment-bribery.html&list_url=https://www.nytimes.com/2019/11/06/us/politics/william-taylor-ukraine-impeachment-testimony.html&list_url=https://www.nytimes.com/2019/11/26/us/politics/impeachment-trump-hearing.html&list_url=https://www.nytimes.com/2019/11/03/us/politics/whistleblower-impeachment-trump.html&list_url=https://www.nytimes.com/2019/11/29/us/politics/impeachment-trump-polls.html HTTP/1.1\" 200 -\n",
      "2019-12-02 17:18:57,033 : INFO : 127.0.0.1 - - [02/Dec/2019 17:18:57] \"GET /article-summary?url=https://www.nbcnews.com/politics/trump-impeachment-inquiry/newly-released-documents-shed-light-mueller-trump-meeting-n1094586&list_url=https://www.cnet.com/roadshow/news/uber-self-driving-car-crash-arizona/&list_url=https://www.theverge.com/2019/11/6/20951385/uber-self-driving-crash-death-reason-ntsb-dcouments&list_url=https://gizmodo.com/voyager-2-team-releases-first-scientific-data-on-inters-1839612752&list_url=https://www.engadget.com/2019/11/27/steven-universe-unleash-the-light-apple-arcade/&list_url=https://www.wired.com/story/ubers-self-driving-car-didnt-know-pedestrians-could-jaywalk/&list_url=https://gizmodo.com/u-s-police-already-using-spot-robot-from-boston-dynami-1840029868&list_url=https://www.cnn.com/2019/11/18/politics/trump-tax-documents-supreme-court/index.html&list_url=https://www.washingtonexaminer.com/news/get-the-emails-mueller-interview-notes-reveal-trump-campaign-hunt-to-damage-clinton&list_url=https://lifehacker.com/how-to-take-light-trail-photos-on-your-pixel-phone-1839696835&list_url=https://www.nytimes.com/2019/11/23/us/politics/pompeo-trump-ukraine-impeachment.html HTTP/1.1\" 200 -\n",
      "2019-12-02 17:19:10,661 : INFO : 127.0.0.1 - - [02/Dec/2019 17:19:10] \"GET /article-summary?url=https://www.nbcnews.com/politics/trump-impeachment-inquiry/newly-released-documents-shed-light-mueller-trump-meeting-n1094586&list_url=https://www.cnet.com/roadshow/news/uber-self-driving-car-crash-arizona/&list_url=https://www.theverge.com/2019/11/6/20951385/uber-self-driving-crash-death-reason-ntsb-dcouments&list_url=https://gizmodo.com/voyager-2-team-releases-first-scientific-data-on-inters-1839612752&list_url=https://www.engadget.com/2019/11/27/steven-universe-unleash-the-light-apple-arcade/&list_url=https://www.wired.com/story/ubers-self-driving-car-didnt-know-pedestrians-could-jaywalk/&list_url=https://gizmodo.com/u-s-police-already-using-spot-robot-from-boston-dynami-1840029868&list_url=https://www.cnn.com/2019/11/18/politics/trump-tax-documents-supreme-court/index.html&list_url=https://www.washingtonexaminer.com/news/get-the-emails-mueller-interview-notes-reveal-trump-campaign-hunt-to-damage-clinton&list_url=https://lifehacker.com/how-to-take-light-trail-photos-on-your-pixel-phone-1839696835&list_url=https://www.nytimes.com/2019/11/23/us/politics/pompeo-trump-ukraine-impeachment.html HTTP/1.1\" 200 -\n",
      "2019-12-02 17:20:43,613 : INFO : 127.0.0.1 - - [02/Dec/2019 17:20:43] \"GET /article-summary?url=https://www.nbcnews.com/politics/trump-impeachment-inquiry/newly-released-documents-shed-light-mueller-trump-meeting-n1094586&list_url=https://www.cnet.com/roadshow/news/uber-self-driving-car-crash-arizona/&list_url=https://www.theverge.com/2019/11/6/20951385/uber-self-driving-crash-death-reason-ntsb-dcouments&list_url=https://gizmodo.com/voyager-2-team-releases-first-scientific-data-on-inters-1839612752&list_url=https://www.engadget.com/2019/11/27/steven-universe-unleash-the-light-apple-arcade/&list_url=https://www.wired.com/story/ubers-self-driving-car-didnt-know-pedestrians-could-jaywalk/&list_url=https://gizmodo.com/u-s-police-already-using-spot-robot-from-boston-dynami-1840029868&list_url=https://www.cnn.com/2019/11/18/politics/trump-tax-documents-supreme-court/index.html&list_url=https://www.washingtonexaminer.com/news/get-the-emails-mueller-interview-notes-reveal-trump-campaign-hunt-to-damage-clinton&list_url=https://lifehacker.com/how-to-take-light-trail-photos-on-your-pixel-phone-1839696835&list_url=https://www.nytimes.com/2019/11/23/us/politics/pompeo-trump-ukraine-impeachment.html HTTP/1.1\" 200 -\n",
      "2019-12-02 17:21:32,870 : INFO : 127.0.0.1 - - [02/Dec/2019 17:21:32] \"GET /article-summary?url=https://www.nbcnews.com/politics/trump-impeachment-inquiry/newly-released-documents-shed-light-mueller-trump-meeting-n1094586&list_url=https://www.cnet.com/roadshow/news/uber-self-driving-car-crash-arizona/&list_url=https://www.theverge.com/2019/11/6/20951385/uber-self-driving-crash-death-reason-ntsb-dcouments&list_url=https://gizmodo.com/voyager-2-team-releases-first-scientific-data-on-inters-1839612752&list_url=https://www.engadget.com/2019/11/27/steven-universe-unleash-the-light-apple-arcade/&list_url=https://www.wired.com/story/ubers-self-driving-car-didnt-know-pedestrians-could-jaywalk/&list_url=https://gizmodo.com/u-s-police-already-using-spot-robot-from-boston-dynami-1840029868&list_url=https://www.cnn.com/2019/11/18/politics/trump-tax-documents-supreme-court/index.html&list_url=https://www.washingtonexaminer.com/news/get-the-emails-mueller-interview-notes-reveal-trump-campaign-hunt-to-damage-clinton&list_url=https://lifehacker.com/how-to-take-light-trail-photos-on-your-pixel-phone-1839696835&list_url=https://www.nytimes.com/2019/11/23/us/politics/pompeo-trump-ukraine-impeachment.html HTTP/1.1\" 200 -\n"
     ]
    }
   ],
   "source": [
    "from flask import Flask, request, jsonify\n",
    "from flask_restful import Resource, Api\n",
    "from newspaper import Article\n",
    "import nltk\n",
    "import re\n",
    "from collections import defaultdict\n",
    "from gensim import corpora\n",
    "import json\n",
    "import logging\n",
    "logging.basicConfig(format='%(asctime)s : %(levelname)s : %(message)s', level=logging.INFO)\n",
    "nltk.download('punkt')\n",
    "\n",
    "app = Flask(__name__)\n",
    "api = Api(app)\n",
    "\n",
    "@app.route('/article-summary',methods=['GET'])\n",
    "\n",
    "def article_summary():\n",
    "    source_url = request.args.get('url')\n",
    "    #list_of_urls = request.args.getlist('list_url')\n",
    "#     summary_source = get_summary(source_url)\n",
    "#     summaries_target = []\n",
    "#     for item in list_of_urls:\n",
    "#         item_summary = get_summary(item)\n",
    "#         summaries_target.append(item_summary)\n",
    "    return jsonify(source_url)    \n",
    "#     documents = summaries\n",
    "#     stoplist = set('for a of the and to in'.split())\n",
    "#     texts = [\n",
    "#         [word for word in document.lower().split() if word not in stoplist]\n",
    "#         for document in documents\n",
    "#     ]\n",
    "\n",
    "#     # remove words that appear only once\n",
    "#     frequency = defaultdict(int)\n",
    "#     for text in texts:\n",
    "#         for token in text:\n",
    "#             frequency[token] += 1\n",
    "\n",
    "#     texts = [\n",
    "#         [token for token in text if frequency[token] > 1]\n",
    "#         for text in texts\n",
    "#     ]\n",
    "\n",
    "#     dictionary = corpora.Dictionary(texts)\n",
    "#     corpus = [dictionary.doc2bow(text) for text in texts]\n",
    "    \n",
    "#     from gensim import models\n",
    "#     lsi = models.LsiModel(corpus, id2word=dictionary, num_topics=2)\n",
    "#     doc=summary_source\n",
    "#     vec_bow = dictionary.doc2bow(doc.lower().split())\n",
    "#     vec_lsi = lsi[vec_bow] \n",
    "#     response = jsonify({'vector': vec_lsi})\n",
    "#     response.headers.add('Access-Control-Allow-Origin', '*')\n",
    "#     return response\n",
    "      \n",
    "\n",
    "def get_summary(url):\n",
    "    article = Article(url)\n",
    "    article.download()\n",
    "    article.parse()\n",
    "    article.nlp()\n",
    "    summary = article.summary\n",
    "    regex = re.compile(r'[\\n\\r\\t]')\n",
    "    summary = regex.sub(\"\", summary)\n",
    "    return summary\n",
    "\n",
    "if __name__ == \"__main__\":\n",
    "\tapp.run()"
   ]
  },
  {
   "cell_type": "code",
   "execution_count": 2,
   "metadata": {},
   "outputs": [
    {
     "ename": "NameError",
     "evalue": "name 'app' is not defined",
     "output_type": "error",
     "traceback": [
      "\u001b[0;31m---------------------------------------------------------------------------\u001b[0m",
      "\u001b[0;31mNameError\u001b[0m                                 Traceback (most recent call last)",
      "\u001b[0;32m<ipython-input-2-c8693605cee1>\u001b[0m in \u001b[0;36m<module>\u001b[0;34m\u001b[0m\n\u001b[0;32m----> 1\u001b[0;31m \u001b[0;34m@\u001b[0m\u001b[0mapp\u001b[0m\u001b[0;34m.\u001b[0m\u001b[0mroute\u001b[0m\u001b[0;34m(\u001b[0m\u001b[0;34m\"/home\"\u001b[0m\u001b[0;34m)\u001b[0m\u001b[0;34m\u001b[0m\u001b[0;34m\u001b[0m\u001b[0m\n\u001b[0m\u001b[1;32m      2\u001b[0m \u001b[0;32mdef\u001b[0m \u001b[0moutput\u001b[0m\u001b[0;34m(\u001b[0m\u001b[0;34m)\u001b[0m\u001b[0;34m:\u001b[0m\u001b[0;34m\u001b[0m\u001b[0;34m\u001b[0m\u001b[0m\n\u001b[1;32m      3\u001b[0m         \u001b[0;32mreturn\u001b[0m \u001b[0;34m\"Hello World!\"\u001b[0m\u001b[0;34m\u001b[0m\u001b[0;34m\u001b[0m\u001b[0m\n\u001b[1;32m      4\u001b[0m \u001b[0;34m\u001b[0m\u001b[0m\n\u001b[1;32m      5\u001b[0m \u001b[0;34m\u001b[0m\u001b[0m\n",
      "\u001b[0;31mNameError\u001b[0m: name 'app' is not defined"
     ]
    }
   ],
   "source": [
    "@app.route(\"/home\")\n",
    "def output():\n",
    "\treturn \"Hello World!\"\n",
    "\n",
    "\n",
    "\n",
    "    \n",
    "    "
   ]
  },
  {
   "cell_type": "code",
   "execution_count": 4,
   "metadata": {},
   "outputs": [
    {
     "name": "stdout",
     "output_type": "stream",
     "text": [
      " * Serving Flask app \"__main__\" (lazy loading)\n",
      " * Environment: production\n",
      "   WARNING: Do not use the development server in a production environment.\n",
      "   Use a production WSGI server instead.\n",
      " * Debug mode: off\n"
     ]
    },
    {
     "name": "stderr",
     "output_type": "stream",
     "text": [
      " * Running on http://127.0.0.1:5000/ (Press CTRL+C to quit)\n",
      "127.0.0.1 - - [23/Nov/2019 17:22:44] \"\u001b[33mGET / HTTP/1.1\u001b[0m\" 404 -\n",
      "127.0.0.1 - - [23/Nov/2019 17:22:52] \"\u001b[37mGET /home HTTP/1.1\u001b[0m\" 200 -\n"
     ]
    }
   ],
   "source": [
    "if __name__ == \"__main__\":\n",
    "\tapp.run()"
   ]
  },
  {
   "cell_type": "code",
   "execution_count": null,
   "metadata": {},
   "outputs": [],
   "source": []
  }
 ],
 "metadata": {
  "kernelspec": {
   "display_name": "Python 3",
   "language": "python",
   "name": "python3"
  },
  "language_info": {
   "codemirror_mode": {
    "name": "ipython",
    "version": 3
   },
   "file_extension": ".py",
   "mimetype": "text/x-python",
   "name": "python",
   "nbconvert_exporter": "python",
   "pygments_lexer": "ipython3",
   "version": "3.7.4"
  }
 },
 "nbformat": 4,
 "nbformat_minor": 2
}
