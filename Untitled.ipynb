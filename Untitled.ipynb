{
 "cells": [
  {
   "cell_type": "code",
   "execution_count": null,
   "metadata": {},
   "outputs": [
    {
     "name": "stdout",
     "output_type": "stream",
     "text": [
      "[nltk_data] Downloading package punkt to\n",
      "[nltk_data]     C:\\Users\\amrut\\AppData\\Roaming\\nltk_data...\n",
      "[nltk_data]   Package punkt is already up-to-date!\n",
      " * Serving Flask app \"__main__\" (lazy loading)\n",
      " * Environment: production\n",
      "   WARNING: Do not use the development server in a production environment.\n",
      "   Use a production WSGI server instead.\n",
      " * Debug mode: off\n"
     ]
    },
    {
     "name": "stderr",
     "output_type": "stream",
     "text": [
      "2019-11-24 20:09:01,364 : INFO :  * Running on http://127.0.0.1:5000/ (Press CTRL+C to quit)\n"
     ]
    }
   ],
   "source": [
    "from flask import Flask, request, jsonify\n",
    "from flask_restful import Resource, Api\n",
    "from newspaper import Article\n",
    "import nltk\n",
    "import re\n",
    "from collections import defaultdict\n",
    "from gensim import corpora\n",
    "import json\n",
    "import logging\n",
    "logging.basicConfig(format='%(asctime)s : %(levelname)s : %(message)s', level=logging.INFO)\n",
    "nltk.download('punkt')\n",
    "\n",
    "app = Flask(__name__)\n",
    "api = Api(app)\n",
    "\n",
    "@app.route('/article-summary',methods=['GET'])\n",
    "\n",
    "def article_summary():\n",
    "    source_url = request.args.get('url')\n",
    "    #list_of_urls = request.args.getlist('list_url')\n",
    "#     summary_source = get_summary(source_url)\n",
    "#     summaries_target = []\n",
    "#     for item in list_of_urls:\n",
    "#         item_summary = get_summary(item)\n",
    "#         summaries_target.append(item_summary)\n",
    "    return jsonify(source_url)    \n",
    "#     documents = summaries\n",
    "#     stoplist = set('for a of the and to in'.split())\n",
    "#     texts = [\n",
    "#         [word for word in document.lower().split() if word not in stoplist]\n",
    "#         for document in documents\n",
    "#     ]\n",
    "\n",
    "#     # remove words that appear only once\n",
    "#     frequency = defaultdict(int)\n",
    "#     for text in texts:\n",
    "#         for token in text:\n",
    "#             frequency[token] += 1\n",
    "\n",
    "#     texts = [\n",
    "#         [token for token in text if frequency[token] > 1]\n",
    "#         for text in texts\n",
    "#     ]\n",
    "\n",
    "#     dictionary = corpora.Dictionary(texts)\n",
    "#     corpus = [dictionary.doc2bow(text) for text in texts]\n",
    "    \n",
    "#     from gensim import models\n",
    "#     lsi = models.LsiModel(corpus, id2word=dictionary, num_topics=2)\n",
    "#     doc=summary_source\n",
    "#     vec_bow = dictionary.doc2bow(doc.lower().split())\n",
    "#     vec_lsi = lsi[vec_bow] \n",
    "#     response = jsonify({'vector': vec_lsi})\n",
    "#     response.headers.add('Access-Control-Allow-Origin', '*')\n",
    "#     return response\n",
    "      \n",
    "\n",
    "def get_summary(url):\n",
    "    article = Article(url)\n",
    "    article.download()\n",
    "    article.parse()\n",
    "    article.nlp()\n",
    "    summary = article.summary\n",
    "    regex = re.compile(r'[\\n\\r\\t]')\n",
    "    summary = regex.sub(\"\", summary)\n",
    "    return summary\n",
    "\n",
    "if __name__ == \"__main__\":\n",
    "\tapp.run()"
   ]
  },
  {
   "cell_type": "code",
   "execution_count": 3,
   "metadata": {},
   "outputs": [],
   "source": [
    "@app.route(\"/home\")\n",
    "def output():\n",
    "\treturn \"Hello World!\"\n",
    "\n",
    "\n",
    "\n",
    "    \n",
    "    "
   ]
  },
  {
   "cell_type": "code",
   "execution_count": 4,
   "metadata": {},
   "outputs": [
    {
     "name": "stdout",
     "output_type": "stream",
     "text": [
      " * Serving Flask app \"__main__\" (lazy loading)\n",
      " * Environment: production\n",
      "   WARNING: Do not use the development server in a production environment.\n",
      "   Use a production WSGI server instead.\n",
      " * Debug mode: off\n"
     ]
    },
    {
     "name": "stderr",
     "output_type": "stream",
     "text": [
      " * Running on http://127.0.0.1:5000/ (Press CTRL+C to quit)\n",
      "127.0.0.1 - - [23/Nov/2019 17:22:44] \"\u001b[33mGET / HTTP/1.1\u001b[0m\" 404 -\n",
      "127.0.0.1 - - [23/Nov/2019 17:22:52] \"\u001b[37mGET /home HTTP/1.1\u001b[0m\" 200 -\n"
     ]
    }
   ],
   "source": [
    "if __name__ == \"__main__\":\n",
    "\tapp.run()"
   ]
  },
  {
   "cell_type": "code",
   "execution_count": null,
   "metadata": {},
   "outputs": [],
   "source": []
  }
 ],
 "metadata": {
  "kernelspec": {
   "display_name": "Python 3",
   "language": "python",
   "name": "python3"
  },
  "language_info": {
   "codemirror_mode": {
    "name": "ipython",
    "version": 3
   },
   "file_extension": ".py",
   "mimetype": "text/x-python",
   "name": "python",
   "nbconvert_exporter": "python",
   "pygments_lexer": "ipython3",
   "version": "3.6.1"
  }
 },
 "nbformat": 4,
 "nbformat_minor": 2
}
